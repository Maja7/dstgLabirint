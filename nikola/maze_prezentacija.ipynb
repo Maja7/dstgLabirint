{
 "cells": [
  {
   "cell_type": "markdown",
   "metadata": {},
   "source": [
    "# Prezentacija modula <i>maze.py</i>"
   ]
  },
  {
   "cell_type": "markdown",
   "metadata": {},
   "source": [
    "## Sadržaj\n",
    "\n",
    "-  [Zadatak 2](#zadatak2)\n",
    "-  [Zadatak 3](#zadatak3)"
   ]
  },
  {
   "cell_type": "code",
   "execution_count": 1,
   "metadata": {},
   "outputs": [
    {
     "name": "stdout",
     "output_type": "stream",
     "text": [
      "Creating necessary folders ...\n",
      "Downloading required images ...\n"
     ]
    },
    {
     "name": "stderr",
     "output_type": "stream",
     "text": [
      "100%|██████████| 13/13 [00:00<00:00, 13050.73it/s]\n"
     ]
    },
    {
     "name": "stdout",
     "output_type": "stream",
     "text": [
      "Finished downloading images!\n"
     ]
    }
   ],
   "source": [
    "import maze"
   ]
  },
  {
   "cell_type": "markdown",
   "metadata": {},
   "source": [
    "uklanjanje upozorenja (zbog korištenja nekih zastarijelih metoda)"
   ]
  },
  {
   "cell_type": "code",
   "execution_count": 2,
   "metadata": {
    "collapsed": true
   },
   "outputs": [],
   "source": [
    "import warnings\n",
    "warnings.simplefilter('ignore')"
   ]
  },
  {
   "cell_type": "markdown",
   "metadata": {},
   "source": [
    "## Zadatak 2 <a class=\"anchor\" id=\"zadatak2\"></a>"
   ]
  },
  {
   "cell_type": "markdown",
   "metadata": {},
   "source": [
    "Priprema za generiranje labirinta veličine 10x10"
   ]
  },
  {
   "cell_type": "code",
   "execution_count": 3,
   "metadata": {
    "collapsed": true
   },
   "outputs": [],
   "source": [
    "zad2_ime = 'zadatak2'\n",
    "brojRedaka = 10\n",
    "brojStupaca = 10"
   ]
  },
  {
   "cell_type": "markdown",
   "metadata": {},
   "source": [
    "Generiranje labirinta"
   ]
  },
  {
   "cell_type": "code",
   "execution_count": 4,
   "metadata": {},
   "outputs": [
    {
     "name": "stdout",
     "output_type": "stream",
     "text": [
      "\n",
      "This may take a while ...\n",
      "\n",
      "Finally done!\n"
     ]
    }
   ],
   "source": [
    "zad2_koordinate, zad2_maze_slova, zad2_krajevi_labirinta = maze.generate_maze(brojRedaka, brojStupaca, zad2_ime)"
   ]
  },
  {
   "cell_type": "markdown",
   "metadata": {},
   "source": [
    "Koordinate"
   ]
  },
  {
   "cell_type": "code",
   "execution_count": 5,
   "metadata": {
    "scrolled": true
   },
   "outputs": [
    {
     "data": {
      "text/plain": [
       "{(0, 0): [(0, 1)],\n",
       " (0, 1): [(0, 2), (0, 0)],\n",
       " (0, 2): [(0, 3), (1, 2), (0, 1)],\n",
       " (0, 3): [(0, 4), (0, 2)],\n",
       " (0, 4): [(0, 5), (0, 3)],\n",
       " (0, 5): [(1, 5), (0, 4)],\n",
       " (0, 6): [(1, 6)],\n",
       " (0, 7): [(0, 8), (1, 7)],\n",
       " (0, 8): [(0, 9), (0, 7)],\n",
       " (0, 9): [(1, 9), (0, 8)],\n",
       " (1, 0): [(1, 1), (2, 0)],\n",
       " (1, 1): [(1, 2), (1, 0)],\n",
       " (1, 2): [(0, 2), (1, 1)],\n",
       " (1, 3): [(2, 3), (1, 4)],\n",
       " (1, 4): [(1, 3), (2, 4)],\n",
       " (1, 5): [(1, 6), (0, 5)],\n",
       " (1, 6): [(2, 6), (1, 5), (0, 6)],\n",
       " (1, 7): [(0, 7), (2, 7)],\n",
       " (1, 8): [(2, 8), (1, 9)],\n",
       " (1, 9): [(1, 8), (0, 9)],\n",
       " (2, 0): [(1, 0), (2, 1)],\n",
       " (2, 1): [(2, 0), (2, 2)],\n",
       " (2, 2): [(2, 1), (3, 2)],\n",
       " (2, 3): [(3, 3), (1, 3)],\n",
       " (2, 4): [(1, 4), (2, 5)],\n",
       " (2, 5): [(2, 4), (2, 6)],\n",
       " (2, 6): [(2, 5), (1, 6)],\n",
       " (2, 7): [(1, 7), (3, 7)],\n",
       " (2, 8): [(2, 9), (1, 8)],\n",
       " (2, 9): [(3, 9), (2, 8)],\n",
       " (3, 0): [(3, 1)],\n",
       " (3, 1): [(4, 1), (3, 0)],\n",
       " (3, 2): [(2, 2), (4, 2)],\n",
       " (3, 3): [(3, 4), (2, 3)],\n",
       " (3, 4): [(3, 5), (3, 3)],\n",
       " (3, 5): [(4, 5), (3, 4)],\n",
       " (3, 6): [(3, 7)],\n",
       " (3, 7): [(2, 7), (3, 6)],\n",
       " (3, 8): [(4, 8), (3, 9)],\n",
       " (3, 9): [(3, 8), (2, 9)],\n",
       " (4, 0): [(4, 1), (5, 0)],\n",
       " (4, 1): [(5, 1), (4, 0), (3, 1)],\n",
       " (4, 2): [(3, 2), (4, 3)],\n",
       " (4, 3): [(4, 2), (5, 3)],\n",
       " (4, 4): [(5, 4)],\n",
       " (4, 5): [(4, 6), (3, 5)],\n",
       " (4, 6): [(5, 6), (4, 5)],\n",
       " (4, 7): [(5, 7)],\n",
       " (4, 8): [(4, 9), (3, 8)],\n",
       " (4, 9): [(5, 9), (4, 8)],\n",
       " (5, 0): [(4, 0), (6, 0)],\n",
       " (5, 1): [(6, 1), (4, 1)],\n",
       " (5, 2): [(5, 3)],\n",
       " (5, 3): [(4, 3), (5, 2)],\n",
       " (5, 4): [(5, 5), (4, 4)],\n",
       " (5, 5): [(6, 5), (5, 4)],\n",
       " (5, 6): [(6, 6), (4, 6)],\n",
       " (5, 7): [(5, 8), (4, 7)],\n",
       " (5, 8): [(5, 9), (6, 8), (5, 7)],\n",
       " (5, 9): [(6, 9), (5, 8), (4, 9)],\n",
       " (6, 0): [(5, 0), (7, 0)],\n",
       " (6, 1): [(6, 2), (5, 1)],\n",
       " (6, 2): [(6, 3), (6, 1)],\n",
       " (6, 3): [(6, 4), (6, 2)],\n",
       " (6, 4): [(7, 4), (6, 3)],\n",
       " (6, 5): [(7, 5), (5, 5)],\n",
       " (6, 6): [(6, 7), (5, 6)],\n",
       " (6, 7): [(6, 8), (6, 6)],\n",
       " (6, 8): [(5, 8), (6, 7)],\n",
       " (6, 9): [(7, 9), (5, 9)],\n",
       " (7, 0): [(6, 0), (7, 1)],\n",
       " (7, 1): [(7, 0), (8, 1)],\n",
       " (7, 2): [(7, 3)],\n",
       " (7, 3): [(8, 3), (7, 4), (7, 2)],\n",
       " (7, 4): [(7, 3), (6, 4)],\n",
       " (7, 5): [(7, 6), (6, 5)],\n",
       " (7, 6): [(7, 7), (7, 5)],\n",
       " (7, 7): [(8, 7), (7, 6)],\n",
       " (7, 8): [(8, 8), (7, 9)],\n",
       " (7, 9): [(7, 8), (6, 9)],\n",
       " (8, 0): [(9, 0)],\n",
       " (8, 1): [(7, 1), (8, 2)],\n",
       " (8, 2): [(8, 1), (9, 2)],\n",
       " (8, 3): [(8, 4), (7, 3)],\n",
       " (8, 4): [(8, 5), (8, 3)],\n",
       " (8, 5): [(9, 5), (8, 4)],\n",
       " (8, 6): [(9, 6), (8, 7)],\n",
       " (8, 7): [(8, 6), (7, 7)],\n",
       " (8, 8): [(8, 9), (7, 8)],\n",
       " (8, 9): [(9, 9), (8, 8)],\n",
       " (9, 0): [(9, 1), (8, 0)],\n",
       " (9, 1): [(9, 2), (9, 0)],\n",
       " (9, 2): [(8, 2), (9, 1)],\n",
       " (9, 3): [(9, 4)],\n",
       " (9, 4): [(9, 5), (9, 3)],\n",
       " (9, 5): [(9, 6), (8, 5), (9, 4)],\n",
       " (9, 6): [(9, 7), (9, 5), (8, 6)],\n",
       " (9, 7): [(9, 6), (9, 8)],\n",
       " (9, 8): [(9, 7), (9, 9)],\n",
       " (9, 9): [(9, 8), (8, 9)]}"
      ]
     },
     "execution_count": 5,
     "metadata": {},
     "output_type": "execute_result"
    }
   ],
   "source": [
    "zad2_koordinate"
   ]
  },
  {
   "cell_type": "markdown",
   "metadata": {},
   "source": [
    "Maze"
   ]
  },
  {
   "cell_type": "code",
   "execution_count": 6,
   "metadata": {},
   "outputs": [
    {
     "data": {
      "text/plain": [
       "[['o', 'k', 'c', 'k', 'k', 'g', 'l', 'f', 'k', 'g'],\n",
       " ['f', 'k', 'h', 'f', 'g', 'i', 'd', 'j', 'f', 'h'],\n",
       " ['i', 'k', 'g', 'j', 'i', 'k', 'h', 'j', 'i', 'g'],\n",
       " ['o', 'g', 'j', 'i', 'k', 'g', 'o', 'h', 'f', 'h'],\n",
       " ['f', 'd', 'i', 'g', 'l', 'i', 'g', 'l', 'i', 'g'],\n",
       " ['j', 'j', 'o', 'h', 'i', 'g', 'j', 'i', 'c', 'd'],\n",
       " ['j', 'i', 'k', 'k', 'g', 'j', 'i', 'k', 'h', 'j'],\n",
       " ['i', 'g', 'o', 'c', 'h', 'i', 'k', 'g', 'f', 'h'],\n",
       " ['l', 'i', 'g', 'i', 'k', 'g', 'f', 'h', 'i', 'g'],\n",
       " ['i', 'k', 'h', 'o', 'k', 'e', 'e', 'k', 'k', 'h']]"
      ]
     },
     "execution_count": 6,
     "metadata": {},
     "output_type": "execute_result"
    }
   ],
   "source": [
    "zad2_maze_slova"
   ]
  },
  {
   "cell_type": "markdown",
   "metadata": {},
   "source": [
    "-  prvi par je ulaz u labirint\n",
    "-  drugi par je izlaz iz labirinta (ne nužno i na rubu)\n",
    "-  treći par je izlaz iz labirinta na rubu "
   ]
  },
  {
   "cell_type": "code",
   "execution_count": 7,
   "metadata": {},
   "outputs": [
    {
     "data": {
      "text/plain": [
       "((9, 7), (5, 2), (2, 0))"
      ]
     },
     "execution_count": 7,
     "metadata": {},
     "output_type": "execute_result"
    }
   ],
   "source": [
    "zad2_krajevi_labirinta"
   ]
  },
  {
   "cell_type": "markdown",
   "metadata": {},
   "source": [
    "Kreiranje slike labirinta"
   ]
  },
  {
   "cell_type": "code",
   "execution_count": 8,
   "metadata": {
    "collapsed": true
   },
   "outputs": [],
   "source": [
    "zad2_image, _, zad2_mat_sus, zad2_matrix = maze.create_maze(zad2_maze_slova, brojRedaka, brojStupaca, zad2_ime)"
   ]
  },
  {
   "cell_type": "code",
   "execution_count": 9,
   "metadata": {},
   "outputs": [
    {
     "data": {
      "image/png": "[encoded data removed]",
      "text/plain": [
       "<PIL.Image.Image image mode=RGB size=700x700 at 0x202D5FA1DD8>"
      ]
     },
     "execution_count": 9,
     "metadata": {},
     "output_type": "execute_result"
    }
   ],
   "source": [
    "zad2_image"
   ]
  },
  {
   "cell_type": "markdown",
   "metadata": {},
   "source": [
    "Dodavanje oznaka za početak i kraj (ne nužno i na rubu)"
   ]
  },
  {
   "cell_type": "code",
   "execution_count": 10,
   "metadata": {},
   "outputs": [
    {
     "data": {
      "image/png": "[encoded data removed]",
      "text/plain": [
       "<PIL.Image.Image image mode=RGB size=700x700 at 0x202C5579A58>"
      ]
     },
     "execution_count": 10,
     "metadata": {},
     "output_type": "execute_result"
    }
   ],
   "source": [
    "zad2_image1 = maze.copy_image(zad2_image)\n",
    "zad2_image1 = maze.label_ends(zad2_krajevi_labirinta[0], zad2_krajevi_labirinta[1], zad2_image1)\n",
    "zad2_image1"
   ]
  },
  {
   "cell_type": "markdown",
   "metadata": {},
   "source": [
    "Dodavanje oznaka za početak i kraj na rubu"
   ]
  },
  {
   "cell_type": "code",
   "execution_count": 11,
   "metadata": {},
   "outputs": [
    {
     "data": {
      "image/png": "[encoded data removed]",
      "text/plain": [
       "<PIL.Image.Image image mode=RGB size=700x700 at 0x202D5FA66A0>"
      ]
     },
     "execution_count": 11,
     "metadata": {},
     "output_type": "execute_result"
    }
   ],
   "source": [
    "zad2_image2 = maze.copy_image(zad2_image)\n",
    "zad2_image2 = maze.label_ends(zad2_krajevi_labirinta[0], zad2_krajevi_labirinta[2], zad2_image2)\n",
    "zad2_image2"
   ]
  },
  {
   "cell_type": "markdown",
   "metadata": {},
   "source": [
    "Određivanje rješenja BFS-om za izlaz ne nužno i na rubu"
   ]
  },
  {
   "cell_type": "code",
   "execution_count": 12,
   "metadata": {
    "collapsed": true
   },
   "outputs": [],
   "source": [
    "zad2_solution = maze.get_solution(zad2_koordinate, zad2_krajevi_labirinta[0], zad2_krajevi_labirinta[1], 'bfs')"
   ]
  },
  {
   "cell_type": "markdown",
   "metadata": {},
   "source": [
    "Kreiranje slike riješenog labirinta sa izlazom ne nužno i na rubu"
   ]
  },
  {
   "cell_type": "code",
   "execution_count": 13,
   "metadata": {
    "collapsed": true
   },
   "outputs": [],
   "source": [
    "zad2_image.close()"
   ]
  },
  {
   "cell_type": "code",
   "execution_count": 14,
   "metadata": {
    "collapsed": true
   },
   "outputs": [],
   "source": [
    "zad2_image = maze.solve_maze(zad2_maze_slova, brojRedaka, brojStupaca, zad2_solution, zad2_ime,\n",
    "                             (zad2_krajevi_labirinta[0], zad2_krajevi_labirinta[1]))"
   ]
  },
  {
   "cell_type": "code",
   "execution_count": 15,
   "metadata": {},
   "outputs": [
    {
     "data": {
      "image/png": "[encoded data removed]",
      "text/plain": [
       "<PIL.Image.Image image mode=RGB size=700x700 at 0x202D5FC7198>"
      ]
     },
     "execution_count": 15,
     "metadata": {},
     "output_type": "execute_result"
    }
   ],
   "source": [
    "zad2_image"
   ]
  },
  {
   "cell_type": "code",
   "execution_count": 16,
   "metadata": {
    "collapsed": true
   },
   "outputs": [],
   "source": [
    "zad2_image.close()"
   ]
  },
  {
   "cell_type": "markdown",
   "metadata": {},
   "source": [
    "Određivanje rješenja BFS-om za izlaz na rubu"
   ]
  },
  {
   "cell_type": "code",
   "execution_count": 17,
   "metadata": {
    "collapsed": true
   },
   "outputs": [],
   "source": [
    "zad2_solution = maze.get_solution(zad2_koordinate, zad2_krajevi_labirinta[0], zad2_krajevi_labirinta[2])"
   ]
  },
  {
   "cell_type": "markdown",
   "metadata": {},
   "source": [
    "Kreiranje slike riješenog labirinta sa izlazom na rubu"
   ]
  },
  {
   "cell_type": "code",
   "execution_count": 18,
   "metadata": {
    "collapsed": true
   },
   "outputs": [],
   "source": [
    "zad2_image = maze.solve_maze(zad2_maze_slova, brojRedaka, brojStupaca, zad2_solution, zad2_ime,\n",
    "                             (zad2_krajevi_labirinta[0], zad2_krajevi_labirinta[2]))"
   ]
  },
  {
   "cell_type": "code",
   "execution_count": 19,
   "metadata": {},
   "outputs": [
    {
     "data": {
      "image/png": "[encoded data removed]",
      "text/plain": [
       "<PIL.Image.Image image mode=RGB size=700x700 at 0x202D4A31DA0>"
      ]
     },
     "execution_count": 19,
     "metadata": {},
     "output_type": "execute_result"
    }
   ],
   "source": [
    "zad2_image"
   ]
  },
  {
   "cell_type": "code",
   "execution_count": 20,
   "metadata": {
    "collapsed": true
   },
   "outputs": [],
   "source": [
    "zad2_image.close()\n",
    "zad2_image1.close()\n",
    "zad2_image2.close()"
   ]
  },
  {
   "cell_type": "markdown",
   "metadata": {},
   "source": [
    "## Zadatak 3 <a class=\"anchor\" id=\"zadatak3\"></a>"
   ]
  },
  {
   "cell_type": "code",
   "execution_count": 21,
   "metadata": {
    "collapsed": true
   },
   "outputs": [],
   "source": [
    "zad3_maze = maze.read_maze('zadatak3')"
   ]
  },
  {
   "cell_type": "code",
   "execution_count": 22,
   "metadata": {},
   "outputs": [
    {
     "data": {
      "text/plain": [
       "[['l', 'f', 'k', 'k', 'k', 'g', 'o', 'g', 'f', 'c', 'k', 'k', 'k', 'k', 'm'],\n",
       " ['b', 'h', 'f', 'k', 'g', 'i', 'g', 'j', 'j', 'i', 'k', 'k', 'k', 'k', 'g'],\n",
       " ['i', 'g', 'b', 'g', 'i', 'k', 'e', 'h', 'j', 'o', 'k', 'k', 'k', 'g', 'j'],\n",
       " ['l', 'j', 'n', 'i', 'k', 'c', 'k', 'k', 'h', 'f', 'g', 'f', 'g', 'i', 'h'],\n",
       " ['i', 'd', 'f', 'g', 'f', 'd', 'f', 'c', 'm', 'j', 'b', 'h', 'j', 'f', 'g'],\n",
       " ['f', 'e', 'd', 'n', 'j', 'n', 'j', 'n', 'f', 'h', 'i', 'g', 'i', 'h', 'n'],\n",
       " ['j', 'f', 'h', 'f', 'd', 'f', 'h', 'f', 'e', 'k', 'm', 'i', 'c', 'k', 'g'],\n",
       " ['j', 'j', 'f', 'h', 'j', 'b', 'k', 'd', 'f', 'k', 'g', 'f', 'h', 'o', 'd'],\n",
       " ['b', 'h', 'i', 'g', 'n', 'i', 'g', 'n', 'i', 'g', 'j', 'j', 'f', 'g', 'j'],\n",
       " ['i', 'k', 'm', 'i', 'k', 'k', 'h', 'o', 'k', 'h', 'i', 'h', 'n', 'i', 'h']]"
      ]
     },
     "execution_count": 22,
     "metadata": {},
     "output_type": "execute_result"
    }
   ],
   "source": [
    "zad3_maze"
   ]
  },
  {
   "cell_type": "markdown",
   "metadata": {},
   "source": [
    "Kreiranje slike labirinta"
   ]
  },
  {
   "cell_type": "code",
   "execution_count": 23,
   "metadata": {
    "collapsed": true
   },
   "outputs": [],
   "source": [
    "zad3_image, zad3_koordinate, zad3_susjed, zad3_matrix = maze.create_maze(zad3_maze, len(zad3_maze), len(zad3_maze[0]),\n",
    "                                                                         'zadatak3')"
   ]
  },
  {
   "cell_type": "markdown",
   "metadata": {},
   "source": [
    "Koordinate"
   ]
  },
  {
   "cell_type": "code",
   "execution_count": 24,
   "metadata": {},
   "outputs": [
    {
     "data": {
      "text/plain": [
       "{(0, 0): [(1, 0)],\n",
       " (0, 1): [(0, 2), (1, 1)],\n",
       " (0, 2): [(0, 3), (0, 1)],\n",
       " (0, 3): [(0, 4), (0, 2)],\n",
       " (0, 4): [(0, 5), (0, 3)],\n",
       " (0, 5): [(1, 5), (0, 4)],\n",
       " (0, 6): [(0, 7)],\n",
       " (0, 7): [(1, 7), (0, 6)],\n",
       " (0, 8): [(0, 9), (1, 8)],\n",
       " (0, 9): [(0, 10), (1, 9), (0, 8)],\n",
       " (0, 10): [(0, 11), (0, 9)],\n",
       " (0, 11): [(0, 12), (0, 10)],\n",
       " (0, 12): [(0, 13), (0, 11)],\n",
       " (0, 13): [(0, 14), (0, 12)],\n",
       " (0, 14): [(0, 13)],\n",
       " (1, 0): [(0, 0), (1, 1), (2, 0)],\n",
       " (1, 1): [(0, 1), (1, 0)],\n",
       " (1, 2): [(1, 3), (2, 2)],\n",
       " (1, 3): [(1, 4), (1, 2)],\n",
       " (1, 4): [(2, 4), (1, 3)],\n",
       " (1, 5): [(0, 5), (1, 6)],\n",
       " (1, 6): [(2, 6), (1, 5)],\n",
       " (1, 7): [(0, 7), (2, 7)],\n",
       " (1, 8): [(0, 8), (2, 8)],\n",
       " (1, 9): [(0, 9), (1, 10)],\n",
       " (1, 10): [(1, 11), (1, 9)],\n",
       " (1, 11): [(1, 12), (1, 10)],\n",
       " (1, 12): [(1, 13), (1, 11)],\n",
       " (1, 13): [(1, 14), (1, 12)],\n",
       " (1, 14): [(2, 14), (1, 13)],\n",
       " (2, 0): [(1, 0), (2, 1)],\n",
       " (2, 1): [(3, 1), (2, 0)],\n",
       " (2, 2): [(1, 2), (2, 3), (3, 2)],\n",
       " (2, 3): [(3, 3), (2, 2)],\n",
       " (2, 4): [(1, 4), (2, 5)],\n",
       " (2, 5): [(2, 6), (2, 4)],\n",
       " (2, 6): [(1, 6), (2, 7), (2, 5)],\n",
       " (2, 7): [(1, 7), (2, 6)],\n",
       " (2, 8): [(1, 8), (3, 8)],\n",
       " (2, 9): [(2, 10)],\n",
       " (2, 10): [(2, 11), (2, 9)],\n",
       " (2, 11): [(2, 12), (2, 10)],\n",
       " (2, 12): [(2, 13), (2, 11)],\n",
       " (2, 13): [(3, 13), (2, 12)],\n",
       " (2, 14): [(1, 14), (3, 14)],\n",
       " (3, 0): [(4, 0)],\n",
       " (3, 1): [(2, 1), (4, 1)],\n",
       " (3, 2): [(2, 2)],\n",
       " (3, 3): [(2, 3), (3, 4)],\n",
       " (3, 4): [(3, 5), (3, 3)],\n",
       " (3, 5): [(3, 6), (4, 5), (3, 4)],\n",
       " (3, 6): [(3, 7), (3, 5)],\n",
       " (3, 7): [(3, 8), (3, 6)],\n",
       " (3, 8): [(2, 8), (3, 7)],\n",
       " (3, 9): [(3, 10), (4, 9)],\n",
       " (3, 10): [(4, 10), (3, 9)],\n",
       " (3, 11): [(3, 12), (4, 11)],\n",
       " (3, 12): [(4, 12), (3, 11)],\n",
       " (3, 13): [(2, 13), (3, 14)],\n",
       " (3, 14): [(2, 14), (3, 13)],\n",
       " (4, 0): [(3, 0), (4, 1)],\n",
       " (4, 1): [(3, 1), (5, 1), (4, 0)],\n",
       " (4, 2): [(4, 3), (5, 2)],\n",
       " (4, 3): [(5, 3), (4, 2)],\n",
       " (4, 4): [(4, 5), (5, 4)],\n",
       " (4, 5): [(3, 5), (5, 5), (4, 4)],\n",
       " (4, 6): [(4, 7), (5, 6)],\n",
       " (4, 7): [(4, 8), (5, 7), (4, 6)],\n",
       " (4, 8): [(4, 7)],\n",
       " (4, 9): [(3, 9), (5, 9)],\n",
       " (4, 10): [(3, 10), (4, 11), (5, 10)],\n",
       " (4, 11): [(3, 11), (4, 10)],\n",
       " (4, 12): [(3, 12), (5, 12)],\n",
       " (4, 13): [(4, 14), (5, 13)],\n",
       " (4, 14): [(5, 14), (4, 13)],\n",
       " (5, 0): [(5, 1), (6, 0)],\n",
       " (5, 1): [(4, 1), (5, 2), (5, 0)],\n",
       " (5, 2): [(4, 2), (6, 2), (5, 1)],\n",
       " (5, 3): [(4, 3)],\n",
       " (5, 4): [(4, 4), (6, 4)],\n",
       " (5, 5): [(4, 5)],\n",
       " (5, 6): [(4, 6), (6, 6)],\n",
       " (5, 7): [(4, 7)],\n",
       " (5, 8): [(5, 9), (6, 8)],\n",
       " (5, 9): [(4, 9), (5, 8)],\n",
       " (5, 10): [(4, 10), (5, 11)],\n",
       " (5, 11): [(6, 11), (5, 10)],\n",
       " (5, 12): [(4, 12), (5, 13)],\n",
       " (5, 13): [(4, 13), (5, 12)],\n",
       " (5, 14): [(4, 14)],\n",
       " (6, 0): [(5, 0), (7, 0)],\n",
       " (6, 1): [(6, 2), (7, 1)],\n",
       " (6, 2): [(5, 2), (6, 1)],\n",
       " (6, 3): [(6, 4), (7, 3)],\n",
       " (6, 4): [(5, 4), (7, 4), (6, 3)],\n",
       " (6, 5): [(6, 6), (7, 5)],\n",
       " (6, 6): [(5, 6), (6, 5)],\n",
       " (6, 7): [(6, 8), (7, 7)],\n",
       " (6, 8): [(5, 8), (6, 9), (6, 7)],\n",
       " (6, 9): [(6, 10), (6, 8)],\n",
       " (6, 10): [(6, 9)],\n",
       " (6, 11): [(5, 11), (6, 12)],\n",
       " (6, 12): [(6, 13), (7, 12), (6, 11)],\n",
       " (6, 13): [(6, 14), (6, 12)],\n",
       " (6, 14): [(7, 14), (6, 13)],\n",
       " (7, 0): [(6, 0), (8, 0)],\n",
       " (7, 1): [(6, 1), (8, 1)],\n",
       " (7, 2): [(7, 3), (8, 2)],\n",
       " (7, 3): [(6, 3), (7, 2)],\n",
       " (7, 4): [(6, 4), (8, 4)],\n",
       " (7, 5): [(6, 5), (7, 6), (8, 5)],\n",
       " (7, 6): [(7, 7), (7, 5)],\n",
       " (7, 7): [(6, 7), (8, 7), (7, 6)],\n",
       " (7, 8): [(7, 9), (8, 8)],\n",
       " (7, 9): [(7, 10), (7, 8)],\n",
       " (7, 10): [(8, 10), (7, 9)],\n",
       " (7, 11): [(7, 12), (8, 11)],\n",
       " (7, 12): [(6, 12), (7, 11)],\n",
       " (7, 13): [(7, 14)],\n",
       " (7, 14): [(6, 14), (8, 14), (7, 13)],\n",
       " (8, 0): [(7, 0), (8, 1), (9, 0)],\n",
       " (8, 1): [(7, 1), (8, 0)],\n",
       " (8, 2): [(7, 2), (8, 3)],\n",
       " (8, 3): [(9, 3), (8, 2)],\n",
       " (8, 4): [(7, 4)],\n",
       " (8, 5): [(7, 5), (8, 6)],\n",
       " (8, 6): [(9, 6), (8, 5)],\n",
       " (8, 7): [(7, 7)],\n",
       " (8, 8): [(7, 8), (8, 9)],\n",
       " (8, 9): [(9, 9), (8, 8)],\n",
       " (8, 10): [(7, 10), (9, 10)],\n",
       " (8, 11): [(7, 11), (9, 11)],\n",
       " (8, 12): [(8, 13), (9, 12)],\n",
       " (8, 13): [(9, 13), (8, 12)],\n",
       " (8, 14): [(7, 14), (9, 14)],\n",
       " (9, 0): [(8, 0), (9, 1)],\n",
       " (9, 1): [(9, 2), (9, 0)],\n",
       " (9, 2): [(9, 1)],\n",
       " (9, 3): [(8, 3), (9, 4)],\n",
       " (9, 4): [(9, 5), (9, 3)],\n",
       " (9, 5): [(9, 6), (9, 4)],\n",
       " (9, 6): [(8, 6), (9, 5)],\n",
       " (9, 7): [(9, 8)],\n",
       " (9, 8): [(9, 9), (9, 7)],\n",
       " (9, 9): [(8, 9), (9, 8)],\n",
       " (9, 10): [(8, 10), (9, 11)],\n",
       " (9, 11): [(8, 11), (9, 10)],\n",
       " (9, 12): [(8, 12)],\n",
       " (9, 13): [(8, 13), (9, 14)],\n",
       " (9, 14): [(8, 14), (9, 13)]}"
      ]
     },
     "execution_count": 24,
     "metadata": {},
     "output_type": "execute_result"
    }
   ],
   "source": [
    "zad3_koordinate"
   ]
  },
  {
   "cell_type": "markdown",
   "metadata": {},
   "source": [
    "-  (0,7): zadani ulaz u labirint\n",
    "-  (9,7): zadani izlaz iz labirinta"
   ]
  },
  {
   "cell_type": "code",
   "execution_count": 25,
   "metadata": {},
   "outputs": [
    {
     "data": {
      "image/png": "[encoded data removed]",
      "text/plain": [
       "<PIL.Image.Image image mode=RGB size=1050x700 at 0x202D5FC7048>"
      ]
     },
     "execution_count": 25,
     "metadata": {},
     "output_type": "execute_result"
    }
   ],
   "source": [
    "zad3_image = maze.label_ends((0,7), (9,7), zad3_image)\n",
    "zad3_image"
   ]
  },
  {
   "cell_type": "code",
   "execution_count": 26,
   "metadata": {
    "collapsed": true
   },
   "outputs": [],
   "source": [
    "zad3_image.close()"
   ]
  },
  {
   "cell_type": "code",
   "execution_count": 27,
   "metadata": {
    "collapsed": true
   },
   "outputs": [],
   "source": [
    "zad3_solution = maze.get_solution(zad3_koordinate, (0,7), (9,7), 'bfs')"
   ]
  },
  {
   "cell_type": "code",
   "execution_count": 28,
   "metadata": {
    "collapsed": true
   },
   "outputs": [],
   "source": [
    "zad3_image = maze.solve_maze(zad3_maze, len(zad3_maze), len(zad3_maze[0]), zad3_solution, 'zadatak3', ((0,7), (9,7)))"
   ]
  },
  {
   "cell_type": "code",
   "execution_count": 29,
   "metadata": {},
   "outputs": [
    {
     "data": {
      "image/png": "[encoded data removed]",
      "text/plain": [
       "<PIL.Image.Image image mode=RGB size=1050x700 at 0x202D5FC77B8>"
      ]
     },
     "execution_count": 29,
     "metadata": {},
     "output_type": "execute_result"
    }
   ],
   "source": [
    "zad3_image"
   ]
  },
  {
   "cell_type": "code",
   "execution_count": 30,
   "metadata": {
    "collapsed": true
   },
   "outputs": [],
   "source": [
    "zad3_image.close()"
   ]
  }
 ],
 "metadata": {
  "kernelspec": {
   "display_name": "Python 3",
   "language": "python",
   "name": "python3"
  },
  "language_info": {
   "codemirror_mode": {
    "name": "ipython",
    "version": 3
   },
   "file_extension": ".py",
   "mimetype": "text/x-python",
   "name": "python",
   "nbconvert_exporter": "python",
   "pygments_lexer": "ipython3",
   "version": "3.6.1"
  }
 },
 "nbformat": 4,
 "nbformat_minor": 2
}
