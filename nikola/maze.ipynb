{
 "cells": [
  {
   "cell_type": "code",
   "execution_count": 1,
   "metadata": {
    "collapsed": true
   },
   "outputs": [],
   "source": [
    "maze_name = 'maze1'"
   ]
  },
  {
   "cell_type": "code",
   "execution_count": 2,
   "metadata": {},
   "outputs": [
    {
     "data": {
      "text/plain": [
       "[['f', 'k', 'g', 'l'],\n",
       " ['b', 'g', 'j', 'j'],\n",
       " ['n', 'j', 'i', 'd'],\n",
       " ['o', 'h', 'o', 'h']]"
      ]
     },
     "execution_count": 2,
     "metadata": {},
     "output_type": "execute_result"
    }
   ],
   "source": [
    "maze = [[i for i in line.rstrip('\\n')] for line in open(f'mazes_txt/{maze_name}.txt')]\n",
    "maze"
   ]
  },
  {
   "cell_type": "code",
   "execution_count": 3,
   "metadata": {
    "collapsed": true
   },
   "outputs": [],
   "source": [
    "row = len(maze)\n",
    "column = len(maze[0])"
   ]
  },
  {
   "cell_type": "code",
   "execution_count": 4,
   "metadata": {
    "collapsed": true
   },
   "outputs": [],
   "source": [
    "import os"
   ]
  },
  {
   "cell_type": "code",
   "execution_count": 5,
   "metadata": {
    "collapsed": true
   },
   "outputs": [],
   "source": [
    "pwd = os.getcwd()"
   ]
  },
  {
   "cell_type": "code",
   "execution_count": 6,
   "metadata": {
    "collapsed": true
   },
   "outputs": [],
   "source": [
    "def createFolder(name):\n",
    "    path = os.path.join(os.getcwd(), name)\n",
    "    try:\n",
    "        if not os.path.exists(path):\n",
    "            os.makedirs(path)\n",
    "    except OSError:\n",
    "        print ('Error: Creating directory. ' +  name)"
   ]
  },
  {
   "cell_type": "code",
   "execution_count": 7,
   "metadata": {
    "collapsed": true
   },
   "outputs": [],
   "source": [
    "createFolder('temp')"
   ]
  },
  {
   "cell_type": "code",
   "execution_count": 8,
   "metadata": {
    "collapsed": true
   },
   "outputs": [],
   "source": [
    "matrix = [[{'S':0, 'N':0, 'E':0, 'W':0} for j in range(column)] for i in range(row)]"
   ]
  },
  {
   "cell_type": "code",
   "execution_count": 9,
   "metadata": {},
   "outputs": [
    {
     "data": {
      "text/plain": [
       "[[{'E': 0, 'N': 0, 'S': 0, 'W': 0},\n",
       "  {'E': 0, 'N': 0, 'S': 0, 'W': 0},\n",
       "  {'E': 0, 'N': 0, 'S': 0, 'W': 0},\n",
       "  {'E': 0, 'N': 0, 'S': 0, 'W': 0}],\n",
       " [{'E': 0, 'N': 0, 'S': 0, 'W': 0},\n",
       "  {'E': 0, 'N': 0, 'S': 0, 'W': 0},\n",
       "  {'E': 0, 'N': 0, 'S': 0, 'W': 0},\n",
       "  {'E': 0, 'N': 0, 'S': 0, 'W': 0}],\n",
       " [{'E': 0, 'N': 0, 'S': 0, 'W': 0},\n",
       "  {'E': 0, 'N': 0, 'S': 0, 'W': 0},\n",
       "  {'E': 0, 'N': 0, 'S': 0, 'W': 0},\n",
       "  {'E': 0, 'N': 0, 'S': 0, 'W': 0}],\n",
       " [{'E': 0, 'N': 0, 'S': 0, 'W': 0},\n",
       "  {'E': 0, 'N': 0, 'S': 0, 'W': 0},\n",
       "  {'E': 0, 'N': 0, 'S': 0, 'W': 0},\n",
       "  {'E': 0, 'N': 0, 'S': 0, 'W': 0}]]"
      ]
     },
     "execution_count": 9,
     "metadata": {},
     "output_type": "execute_result"
    }
   ],
   "source": [
    "matrix"
   ]
  },
  {
   "cell_type": "code",
   "execution_count": 10,
   "metadata": {
    "collapsed": true
   },
   "outputs": [],
   "source": [
    "from PIL import Image\n",
    "\n",
    "open_images = []\n",
    "fin_img_col = []"
   ]
  },
  {
   "cell_type": "code",
   "execution_count": 11,
   "metadata": {
    "collapsed": true
   },
   "outputs": [],
   "source": [
    "koordinate = {}\n",
    "susjed = [[0 for j in range(row*column)] for i in range(row*column)]\n",
    "for i in range(1, 7):\n",
    "    open_images.append(Image.open(f'maze_parts/{i}.png'))\n",
    "width, height = open_images[0].size\n",
    "blank_image = Image.new(\"RGB\", (width*column, height*row))\n",
    "\n",
    "for (i, x) in enumerate(maze):\n",
    "    h = height * i\n",
    "    for (j, y) in enumerate(x):\n",
    "        w = width * j\n",
    "        if y == 'a':\n",
    "            if i > 0:\n",
    "                matrix[i][j]['N'] = matrix[i-1][j]\n",
    "                susjed[i*column+j][(i-1)*column+j] = 1\n",
    "            if j < column - 1:\n",
    "                matrix[i][j]['E'] = matrix[i][j+1]\n",
    "                susjed[i*column+j][i*column+(j+1)] = 1\n",
    "            if i < row - 1:\n",
    "                matrix[i][j]['S'] = matrix[i+1][j]\n",
    "                susjed[i*column+j][(i+1)*column+j] = 1\n",
    "            if j > 0:\n",
    "                matrix[i][j]['W'] = matrix[i][j-1]\n",
    "                susjed[i*column+j][i*column+(j-1)] = 1\n",
    "            koordinate[(i,j)] = [(i-1,j), (i,j+1), (i+1,j), (i,j-1)]\n",
    "            blank_image.paste(open_images[0], (w, h))\n",
    "        elif y == 'b':\n",
    "            if i > 0:\n",
    "                matrix[i][j]['N'] = matrix[i-1][j]\n",
    "                susjed[i*column+j][(i-1)*column+j] = 1\n",
    "            if j < column - 1:\n",
    "                matrix[i][j]['E'] = matrix[i][j+1]\n",
    "                susjed[i*column+j][i*column+(j+1)] = 1\n",
    "            if i < row - 1:\n",
    "                matrix[i][j]['S'] = matrix[i+1][j]\n",
    "                susjed[i*column+j][(i+1)*column+j] = 1\n",
    "            koordinate[(i,j)] = [(i-1,j), (i,j+1), (i+1,j)]\n",
    "            blank_image.paste(open_images[1], (w, h))\n",
    "        elif y == 'c':\n",
    "            if j < column - 1:\n",
    "                matrix[i][j]['E'] = matrix[i][j+1]\n",
    "                susjed[i*column+j][i*column+(j+1)] = 1\n",
    "            if i < row - 1:\n",
    "                matrix[i][j]['S'] = matrix[i+1][j]\n",
    "                susjed[i*column+j][(i+1)*column+j] = 1\n",
    "            if j > 0:\n",
    "                matrix[i][j]['W'] = matrix[i][j-1]\n",
    "                susjed[i*column+j][i*column+(j-1)] = 1\n",
    "            koordinate[(i,j)] = [(i,j+1), (i+1,j), (i,j-1)]\n",
    "            blank_image.paste(open_images[1].rotate(270), (w, h))\n",
    "        elif y == 'd':\n",
    "            if i > 0:\n",
    "                matrix[i][j]['N'] = matrix[i-1][j]\n",
    "                susjed[i*column+j][(i-1)*column+j] = 1\n",
    "            if i < row - 1:\n",
    "                matrix[i][j]['S'] = matrix[i+1][j]\n",
    "                susjed[i*column+j][(i+1)*column+j] = 1\n",
    "            if j > 0:\n",
    "                matrix[i][j]['W'] = matrix[i][j-1]\n",
    "                susjed[i*column+j][i*column+(j-1)] = 1\n",
    "            koordinate[(i,j)] = [(i-1,j), (i+1,j), (i,j-1)]\n",
    "            blank_image.paste(open_images[1].rotate(180), (w, h))\n",
    "        elif y == 'e':\n",
    "            if i > 0:\n",
    "                matrix[i][j]['N'] = matrix[i-1][j]\n",
    "                susjed[i*column+j][(i-1)*column+j] = 1\n",
    "            if j < column - 1:\n",
    "                matrix[i][j]['E'] = matrix[i][j+1]\n",
    "                susjed[i*column+j][i*column+(j+1)] = 1\n",
    "            if j > 0:\n",
    "                matrix[i][j]['W'] = matrix[i][j-1]\n",
    "                susjed[i*column+j][i*column+(j-1)] = 1\n",
    "            koordinate[(i,j)] = [(i-1,j), (i,j+1), (i,j-1)]\n",
    "            blank_image.paste(open_images[1].rotate(90), (w, h))\n",
    "        elif y == 'f':\n",
    "            if j < column - 1:\n",
    "                matrix[i][j]['E'] = matrix[i][j+1]\n",
    "                susjed[i*column+j][i*column+(j+1)] = 1\n",
    "            if i < row - 1:\n",
    "                matrix[i][j]['S'] = matrix[i+1][j]\n",
    "                susjed[i*column+j][(i+1)*column+j] = 1\n",
    "            koordinate[(i,j)] = [(i,j+1), (i+1,j)]\n",
    "            blank_image.paste(open_images[2], (w, h))\n",
    "        elif y == 'g':\n",
    "            if i < row - 1:\n",
    "                matrix[i][j]['S'] = matrix[i+1][j]\n",
    "                susjed[i*column+j][(i+1)*column+j] = 1\n",
    "            if j > 0:\n",
    "                matrix[i][j]['W'] = matrix[i][j-1]\n",
    "                susjed[i*column+j][i*column+(j-1)] = 1\n",
    "            koordinate[(i,j)] = [(i+1,j), (i,j-1)]\n",
    "            blank_image.paste(open_images[2].rotate(270), (w, h))\n",
    "        elif y == 'h':\n",
    "            if i > 0:\n",
    "                matrix[i][j]['N'] = matrix[i-1][j]\n",
    "                susjed[i*column+j][(i-1)*column+j] = 1\n",
    "            if j > 0:\n",
    "                matrix[i][j]['W'] = matrix[i][j-1]\n",
    "                susjed[i*column+j][i*column+(j-1)] = 1\n",
    "            koordinate[(i,j)] = [(i-1,j), (i,j-1)]\n",
    "            blank_image.paste(open_images[2].rotate(180), (w, h))\n",
    "        elif y == 'i':\n",
    "            if i > 0:\n",
    "                matrix[i][j]['N'] = matrix[i-1][j]\n",
    "                susjed[i*column+j][(i-1)*column+j] = 1\n",
    "            if j < column - 1:\n",
    "                matrix[i][j]['E'] = matrix[i][j+1]\n",
    "                susjed[i*column+j][i*column+(j+1)] = 1\n",
    "            koordinate[(i,j)] = [(i-1,j), (i,j+1)]\n",
    "            blank_image.paste(open_images[2].rotate(90), (w, h))\n",
    "        elif y == 'j':\n",
    "            if i > 0:\n",
    "                matrix[i][j]['N'] = matrix[i-1][j]\n",
    "                susjed[i*column+j][(i-1)*column+j] = 1\n",
    "            if i < row - 1:\n",
    "                matrix[i][j]['S'] = matrix[i+1][j]\n",
    "                susjed[i*column+j][(i+1)*column+j] = 1\n",
    "            koordinate[(i,j)] = [(i-1,j), (i+1,j)]\n",
    "            blank_image.paste(open_images[3], (w, h))\n",
    "        elif y == 'k':\n",
    "            if j < column - 1:\n",
    "                matrix[i][j]['E'] = matrix[i][j+1]\n",
    "                susjed[i*column+j][i*column+(j+1)] = 1\n",
    "            if j > 0:\n",
    "                matrix[i][j]['W'] = matrix[i][j-1]\n",
    "                susjed[i*column+j][i*column+(j-1)] = 1\n",
    "            koordinate[(i,j)] = [(i,j+1), (i,j-1)]\n",
    "            blank_image.paste(open_images[3].rotate(90), (w, h))\n",
    "        elif y == 'l':\n",
    "            if i < row - 1:\n",
    "                matrix[i][j]['S'] = matrix[i+1][j]\n",
    "                susjed[i*column+j][(i+1)*column+j] = 1\n",
    "            koordinate[(i,j)] = [(i+1,j)]\n",
    "            blank_image.paste(open_images[4], (w, h))\n",
    "        elif y == 'm':\n",
    "            if j > 0:\n",
    "                matrix[i][j]['W'] = matrix[i][j-1]\n",
    "                susjed[i*column+j][i*column+(j-1)] = 1\n",
    "            koordinate[(i,j)] = [(i,j-1)]\n",
    "            blank_image.paste(open_images[4].rotate(270), (w, h))\n",
    "        elif y == 'n':\n",
    "            if i > 0:\n",
    "                matrix[i][j]['N'] = matrix[i-1][j]\n",
    "                susjed[i*column+j][(i-1)*column+j] = 1\n",
    "            koordinate[(i,j)] = [(i-1,j)]\n",
    "            blank_image.paste(open_images[4].rotate(180), (w, h))\n",
    "        elif y == 'o':\n",
    "            if j < column - 1:\n",
    "                matrix[i][j]['E'] = matrix[i][j+1]\n",
    "                susjed[i*column+j][i*column+(j+1)] = 1\n",
    "            koordinate[(i,j)] = [(i,j+1)]\n",
    "            blank_image.paste(open_images[4].rotate(90), (w, h))\n",
    "        elif y == 'p':\n",
    "            blank_image.paste(open_images[5], (w, h))"
   ]
  },
  {
   "cell_type": "code",
   "execution_count": 12,
   "metadata": {},
   "outputs": [],
   "source": [
    "for i in range(6):\n",
    "    open_images[i].close()"
   ]
  },
  {
   "cell_type": "code",
   "execution_count": 13,
   "metadata": {},
   "outputs": [
    {
     "data": {
      "text/plain": [
       "{(0, 0): [(0, 1), (1, 0)],\n",
       " (0, 1): [(0, 2), (0, 0)],\n",
       " (0, 2): [(1, 2), (0, 1)],\n",
       " (0, 3): [(1, 3)],\n",
       " (1, 0): [(0, 0), (1, 1), (2, 0)],\n",
       " (1, 1): [(2, 1), (1, 0)],\n",
       " (1, 2): [(0, 2), (2, 2)],\n",
       " (1, 3): [(0, 3), (2, 3)],\n",
       " (2, 0): [(1, 0)],\n",
       " (2, 1): [(1, 1), (3, 1)],\n",
       " (2, 2): [(1, 2), (2, 3)],\n",
       " (2, 3): [(1, 3), (3, 3), (2, 2)],\n",
       " (3, 0): [(3, 1)],\n",
       " (3, 1): [(2, 1), (3, 0)],\n",
       " (3, 2): [(3, 3)],\n",
       " (3, 3): [(2, 3), (3, 2)]}"
      ]
     },
     "execution_count": 13,
     "metadata": {},
     "output_type": "execute_result"
    }
   ],
   "source": [
    "koordinate"
   ]
  },
  {
   "cell_type": "code",
   "execution_count": 14,
   "metadata": {},
   "outputs": [
    {
     "data": {
      "image/png": "[encoded data removed]",
      "text/plain": [
       "<PIL.Image.Image image mode=RGB size=280x280 at 0x1E664414860>"
      ]
     },
     "execution_count": 14,
     "metadata": {},
     "output_type": "execute_result"
    }
   ],
   "source": [
    "blank_image"
   ]
  },
  {
   "cell_type": "code",
   "execution_count": 15,
   "metadata": {},
   "outputs": [
    {
     "data": {
      "text/plain": [
       "(280, 280)"
      ]
     },
     "execution_count": 15,
     "metadata": {},
     "output_type": "execute_result"
    }
   ],
   "source": [
    "blank_image.size"
   ]
  },
  {
   "cell_type": "code",
   "execution_count": 16,
   "metadata": {
    "collapsed": true
   },
   "outputs": [],
   "source": [
    "import uuid\n",
    "\n",
    "blank_image.save(f'temp/{str(uuid.uuid4())}_{maze_name}.jpg')"
   ]
  },
  {
   "cell_type": "code",
   "execution_count": 17,
   "metadata": {},
   "outputs": [
    {
     "data": {
      "text/plain": [
       "[[0, 1, 0, 0, 1, 0, 0, 0, 0, 0, 0, 0, 0, 0, 0, 0],\n",
       " [1, 0, 1, 0, 0, 0, 0, 0, 0, 0, 0, 0, 0, 0, 0, 0],\n",
       " [0, 1, 0, 0, 0, 0, 1, 0, 0, 0, 0, 0, 0, 0, 0, 0],\n",
       " [0, 0, 0, 0, 0, 0, 0, 1, 0, 0, 0, 0, 0, 0, 0, 0],\n",
       " [1, 0, 0, 0, 0, 1, 0, 0, 1, 0, 0, 0, 0, 0, 0, 0],\n",
       " [0, 0, 0, 0, 1, 0, 0, 0, 0, 1, 0, 0, 0, 0, 0, 0],\n",
       " [0, 0, 1, 0, 0, 0, 0, 0, 0, 0, 1, 0, 0, 0, 0, 0],\n",
       " [0, 0, 0, 1, 0, 0, 0, 0, 0, 0, 0, 1, 0, 0, 0, 0],\n",
       " [0, 0, 0, 0, 1, 0, 0, 0, 0, 0, 0, 0, 0, 0, 0, 0],\n",
       " [0, 0, 0, 0, 0, 1, 0, 0, 0, 0, 0, 0, 0, 1, 0, 0],\n",
       " [0, 0, 0, 0, 0, 0, 1, 0, 0, 0, 0, 1, 0, 0, 0, 0],\n",
       " [0, 0, 0, 0, 0, 0, 0, 1, 0, 0, 1, 0, 0, 0, 0, 1],\n",
       " [0, 0, 0, 0, 0, 0, 0, 0, 0, 0, 0, 0, 0, 1, 0, 0],\n",
       " [0, 0, 0, 0, 0, 0, 0, 0, 0, 1, 0, 0, 1, 0, 0, 0],\n",
       " [0, 0, 0, 0, 0, 0, 0, 0, 0, 0, 0, 0, 0, 0, 0, 1],\n",
       " [0, 0, 0, 0, 0, 0, 0, 0, 0, 0, 0, 1, 0, 0, 1, 0]]"
      ]
     },
     "execution_count": 17,
     "metadata": {},
     "output_type": "execute_result"
    }
   ],
   "source": [
    "susjed"
   ]
  }
 ],
 "metadata": {
  "kernelspec": {
   "display_name": "Python 3",
   "language": "python",
   "name": "python3"
  },
  "language_info": {
   "codemirror_mode": {
    "name": "ipython",
    "version": 3
   },
   "file_extension": ".py",
   "mimetype": "text/x-python",
   "name": "python",
   "nbconvert_exporter": "python",
   "pygments_lexer": "ipython3",
   "version": "3.6.1"
  }
 },
 "nbformat": 4,
 "nbformat_minor": 2
}
